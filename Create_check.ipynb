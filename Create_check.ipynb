{
 "cells": [
  {
   "cell_type": "code",
   "execution_count": 1,
   "id": "033c6380-fc77-4f04-8b8a-6e93ff8220ff",
   "metadata": {},
   "outputs": [],
   "source": [
    "from parsers import *"
   ]
  },
  {
   "cell_type": "code",
   "execution_count": 2,
   "id": "987d85b3-fb9c-4a20-b2bb-452439f9551d",
   "metadata": {
    "scrolled": true
   },
   "outputs": [
    {
     "name": "stdout",
     "output_type": "stream",
     "text": [
      "=====\n",
      "TITLE: Pathfinder: Kingmaker\n",
      "REVIEW: \n",
      "                    Pathfinder: Kingmaker is based on - surprise - Pathfinder ruleset, porting an entire adventure path called - guess what - Kingmaker. This game combines standard RPG mechanics with managing a kingdom, and is all-around one of the most complex games I have ever played.\n",
      "                    \n",
      "                    The best part of the game is combat. It can be switched between turn based or real-time with pause for those with more barbaric tastes. Each character class has several archetypes with some distinguishing factor, such as having an animal or bombs. Each chapter is densely packed with combat - which is not a problem, as some samples are needed to test a build and adjust it; besides, encounters can be speeded up. The way you develop characters has a dramatic effect on a game; a single perk can be the difference between making combat a slog or a banal two-turn-long skirmish. Pretty much any aspect of the difficulty can be changed, like removing critical hits or multiplying the damage done to the party. The game has almost everything I ever wanted from a combat-focused game.\n",
      "                    \n",
      "                    Plot-wise, the entire game revolves around the question \"how to rule a kingdom\"? Will you slay Armag, your neighbourhood pillager? How will you treat Lamashtu enjoyers? Will you show mercy and retain the services of a betrayer, who is also one of the essential people in your barony? All those choices have consequences - from simple alignment shifts or changing the set of available advisors, to losing companions permanently or completely changing the endgame.\n",
      "                    \n",
      "                    As you can guess, the game was not perfect. One of the aspects I disliked was exploration. Most of the world consists of nonsensically small, copy-pasted locations with a single event or encounter. Other ones were usually predictable and somewhat mundane - except maybe for the controversial House at the Edge of Time and a certain tomb. On the bright side, weighty rations and the camping system with tasks assigned to party members added some depth to this aspect of the game. Furthermore, while having kingdom management part in this game is understandable given the plot, its implementation leaves much to be desired; the mechanics here felt shallow, and some actions seemed very suboptimal (like creating most buildings).\n",
      "                    \n",
      "                    Overall, maybe the most impressive thing about this game is how it retained quality over around 200 hours of playthrough.\n",
      "                    \n",
      "RATING: 9\n",
      "TAGS: ['combat-focused', 'choices and consequences']\n",
      "=====\n"
     ]
    }
   ],
   "source": [
    "### Create a review\n",
    "print(create_review(title='Pathfinder: Kingmaker', \n",
    "                    review = '''\n",
    "                    Pathfinder: Kingmaker is based on - surprise - Pathfinder ruleset, porting an entire adventure path called - guess what - Kingmaker. This game combines standard RPG mechanics with managing a kingdom, and is all-around one of the most complex games I have ever played.\n",
    "                    \n",
    "                    The best part of the game is combat. It can be switched between turn based or real-time with pause for those with more barbaric tastes. Each character class has several archetypes with some distinguishing factor, such as having an animal or bombs. Each chapter is densely packed with combat - which is not a problem, as some samples are needed to test a build and adjust it; besides, encounters can be speeded up. The way you develop characters has a dramatic effect on a game; a single perk can be the difference between making combat a slog or a banal two-turn-long skirmish. Pretty much any aspect of the difficulty can be changed, like removing critical hits or multiplying the damage done to the party. The game has almost everything I ever wanted from a combat-focused game.\n",
    "                    \n",
    "                    Plot-wise, the entire game revolves around the question \"how to rule a kingdom\"? Will you slay Armag, your neighbourhood pillager? How will you treat Lamashtu enjoyers? Will you show mercy and retain the services of a betrayer, who is also one of the essential people in your barony? All those choices have consequences - from simple alignment shifts or changing the set of available advisors, to losing companions permanently or completely changing the endgame.\n",
    "                    \n",
    "                    As you can guess, the game was not perfect. One of the aspects I disliked was exploration. Most of the world consists of nonsensically small, copy-pasted locations with a single event or encounter. Other ones were usually predictable and somewhat mundane - except maybe for the controversial House at the Edge of Time and a certain tomb. On the bright side, weighty rations and the camping system with tasks assigned to party members added some depth to this aspect of the game. Furthermore, while having kingdom management part in this game is understandable given the plot, its implementation leaves much to be desired; the mechanics here felt shallow, and some actions seemed very suboptimal (like creating most buildings).\n",
    "                    \n",
    "                    Overall, maybe the most impressive thing about this game is how it retained quality over around 200 hours of playthrough.\n",
    "                    ''',\n",
    "                    rating = 9,\n",
    "                    tags = ['combat-focused', 'choices and consequences'],\n",
    "                   ))\n",
    "#Note, that you could just as well omit 'notes' and 'rpg' argument"
   ]
  },
  {
   "cell_type": "code",
   "execution_count": 3,
   "id": "2a78a8c9-3728-483e-870a-bcb9fca7444e",
   "metadata": {},
   "outputs": [
    {
     "name": "stdout",
     "output_type": "stream",
     "text": [
      "TITLE: Blackguards\n",
      "REVIEW:  \n",
      "                    Blackguards, based on 'das Schwarze Auge' ruleset, is a game focused on combat, and all its other elements are subservient: lightning-fast exploration is reminiscent of a puzzle game without puzzles, dialogues are straight and forward (usually towards the battle), and audiovisuals are best described as utilitarian.\n",
      "                    As expected, the combat system is splendid. The game featured myriads of ways to develop characters, especially mages, ranging from giving them the ability to resist knockdowns or get enemies' stats to creating impenetrable walls or showering seven adjacent fields with arrows. There were no level-ups; every skirmish gave a certain amount of experience points, which can be used to buy abilities directly - what follows, the game features a strong sense of progression, as one can reinforce some characters before any string of fights. Different types of weapons offered different sets of properties (such as range or added abilities), unique items didn't become commonplace as the game progressed. Each encounter is handcrafted; the game didn't lose its grip even at the very end, as each of its five chapters provided quite a few memorable challenges with diverse enemies and interactive environments. Understanding the battlefield was oftentimes more important than knowledge of the combat system, as a lot of maps featured unique traps or constraints requiring tailored strategies.\n",
      "                    The game had some hiccups, though: despite being combat-focused, the party is determined by the plot rather than by a player - which is a shame, as a lot of the encounters begged for testing them with a different party setup. Very few choices had actual consequences; while it's nice that the game doesn't reward do-gooders with unrealistic benefits, the game feels very linear most of the time. Both of those things limit replayability. \n",
      "RATING: 6.5\n",
      "TAGS: ['combat-focused', 'environmental interaction']\n",
      "RPG: True\n",
      "\n",
      "\n",
      "\n",
      "TITLE: Some title\n",
      "REVIEW:  Meh\n",
      "RATING: 5.12312312\n",
      "TAGS: ['']\n",
      "HE: hehe\n",
      "NOTES: xxxxx\n",
      "\n",
      "\n",
      "\n",
      "TITLE: yes\n",
      "\n",
      "\n",
      "\n"
     ]
    }
   ],
   "source": [
    "### Check validity\n",
    "res = post_processing(\"\"\"\n",
    "First revioo\n",
    "=====\n",
    "TITLE: Blackguards\n",
    "REVIEW: \n",
    "                    Blackguards, based on 'das Schwarze Auge' ruleset, is a game focused on combat, and all its other elements are subservient: lightning-fast exploration is reminiscent of a puzzle game without puzzles, dialogues are straight and forward (usually towards the battle), and audiovisuals are best described as utilitarian.\n",
    "\n",
    "                    As expected, the combat system is splendid. The game featured myriads of ways to develop characters, especially mages, ranging from giving them the ability to resist knockdowns or get enemies' stats to creating impenetrable walls or showering seven adjacent fields with arrows. There were no level-ups; every skirmish gave a certain amount of experience points, which can be used to buy abilities directly - what follows, the game features a strong sense of progression, as one can reinforce some characters before any string of fights. Different types of weapons offered different sets of properties (such as range or added abilities), unique items didn't become commonplace as the game progressed. Each encounter is handcrafted; the game didn't lose its grip even at the very end, as each of its five chapters provided quite a few memorable challenges with diverse enemies and interactive environments. Understanding the battlefield was oftentimes more important than knowledge of the combat system, as a lot of maps featured unique traps or constraints requiring tailored strategies.\n",
    "\n",
    "                    The game had some hiccups, though: despite being combat-focused, the party is determined by the plot rather than by a player - which is a shame, as a lot of the encounters begged for testing them with a different party setup. Very few choices had actual consequences; while it's nice that the game doesn't reward do-gooders with unrealistic benefits, the game feels very linear most of the time. Both of those things limit replayability. \n",
    "                    \n",
    "RATING: 6.5\n",
    "TAGS: ['combat-focused', 'environmental interaction']\n",
    "RPG: True\n",
    "=====\n",
    "and then, \n",
    "=====\n",
    "TITLE: Some title\n",
    "REVIEW: Meh\n",
    "RATING: 5.12312312\n",
    "TAGS: []\n",
    "HE: hehe\n",
    "NOTES: xxxxx\n",
    "=====\n",
    "=====\n",
    "TITLE: yes\n",
    "=====\n",
    "\"\"\")\n",
    "for x in res:\n",
    "    _ = [print(f'{key}: {x[key]}') for key in x],\n",
    "    print('\\n\\n')"
   ]
  },
  {
   "cell_type": "code",
   "execution_count": null,
   "id": "1463f009-ed0b-4972-b2e2-2e0d4599dc15",
   "metadata": {},
   "outputs": [],
   "source": []
  },
  {
   "cell_type": "code",
   "execution_count": null,
   "id": "473a59e3-fbb8-4e53-8aff-ec3bc1fe1fcb",
   "metadata": {},
   "outputs": [],
   "source": []
  },
  {
   "cell_type": "code",
   "execution_count": null,
   "id": "88bd1787-58cf-4af0-a62e-1eb235e91b44",
   "metadata": {},
   "outputs": [],
   "source": []
  },
  {
   "cell_type": "code",
   "execution_count": null,
   "id": "7defa459-c109-4aad-a20b-eaa682529776",
   "metadata": {},
   "outputs": [],
   "source": []
  },
  {
   "cell_type": "code",
   "execution_count": null,
   "id": "9e71a1ee-154d-44f9-82ce-60ae554a1276",
   "metadata": {},
   "outputs": [],
   "source": []
  },
  {
   "cell_type": "code",
   "execution_count": null,
   "id": "9f75958d-cdd3-47e5-ab79-304a6d8af42b",
   "metadata": {},
   "outputs": [],
   "source": []
  },
  {
   "cell_type": "code",
   "execution_count": null,
   "id": "a6fe9464-1952-4c62-88f7-4662bb2bb5d8",
   "metadata": {},
   "outputs": [],
   "source": []
  },
  {
   "cell_type": "code",
   "execution_count": null,
   "id": "ac7640a5-6680-410d-9273-60fbf89040dc",
   "metadata": {},
   "outputs": [],
   "source": []
  },
  {
   "cell_type": "code",
   "execution_count": null,
   "id": "69b5827e-8c04-4337-9fd1-8751dd8dec83",
   "metadata": {},
   "outputs": [],
   "source": []
  },
  {
   "cell_type": "code",
   "execution_count": null,
   "id": "c15f963f-1cee-4500-9ef0-d42128d9d65b",
   "metadata": {},
   "outputs": [],
   "source": []
  },
  {
   "cell_type": "code",
   "execution_count": 104,
   "id": "db33d810-8007-453f-beb5-7911df714c54",
   "metadata": {},
   "outputs": [
    {
     "name": "stdout",
     "output_type": "stream",
     "text": [
      "['1', '2', '312', '41231']\n"
     ]
    }
   ],
   "source": [
    "def list_parser(listing):\n",
    "    return list(map(lambda x: x.strip(), listing.split('[')[1].split(']')[0].split(',')))\n",
    "\n",
    "print(list_parser('[1,2, 312, 41231]'))"
   ]
  },
  {
   "cell_type": "code",
   "execution_count": null,
   "id": "c20c86b5-8575-4aee-9ae9-560ddc30244d",
   "metadata": {},
   "outputs": [],
   "source": []
  }
 ],
 "metadata": {
  "kernelspec": {
   "display_name": "Python 3 (ipykernel)",
   "language": "python",
   "name": "python3"
  },
  "language_info": {
   "codemirror_mode": {
    "name": "ipython",
    "version": 3
   },
   "file_extension": ".py",
   "mimetype": "text/x-python",
   "name": "python",
   "nbconvert_exporter": "python",
   "pygments_lexer": "ipython3",
   "version": "3.10.12"
  }
 },
 "nbformat": 4,
 "nbformat_minor": 5
}
